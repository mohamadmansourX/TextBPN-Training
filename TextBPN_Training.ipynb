{
  "nbformat": 4,
  "nbformat_minor": 0,
  "metadata": {
    "accelerator": "GPU",
    "colab": {
      "name": "TextBPN-Training.ipynb",
      "provenance": [],
      "collapsed_sections": [],
      "authorship_tag": "ABX9TyMlxXNNSVif5djQxwffrxus",
      "include_colab_link": true
    },
    "kernelspec": {
      "display_name": "Python 3",
      "name": "python3"
    },
    "language_info": {
      "name": "python"
    }
  },
  "cells": [
    {
      "cell_type": "markdown",
      "metadata": {
        "id": "view-in-github",
        "colab_type": "text"
      },
      "source": [
        "<a href=\"https://colab.research.google.com/github/mohamadmansourX/TextBPN-Training/blob/main/TextBPN_Training.ipynb\" target=\"_parent\"><img src=\"https://colab.research.google.com/assets/colab-badge.svg\" alt=\"Open In Colab\"/></a>"
      ]
    },
    {
      "cell_type": "markdown",
      "metadata": {
        "id": "VbrA8xCYfTj0"
      },
      "source": [
        "# Choose the Models"
      ]
    },
    {
      "cell_type": "code",
      "metadata": {
        "id": "Ysy45Zqw5aM7",
        "colab": {
          "base_uri": "https://localhost:8080/"
        },
        "cellView": "form",
        "outputId": "c148c631-3e14-43ca-c006-3784c5ba6e99"
      },
      "source": [
        "#@title\n",
        "\n",
        "import shutil\n",
        "from glob import glob\n",
        "import os\n",
        "import subprocess\n",
        "import time\n",
        "%cd /content\n",
        "for i in glob('/content/*'):\n",
        "  print(i)\n",
        "  try:\n",
        "    shutil.rmtree(i)\n",
        "  except:\n",
        "    os.remove(i)\n",
        "def git(*args):\n",
        "    return subprocess.check_call(['git'] + list(args))\n",
        "git(\"clone\", \"https://github.com/mohamadmansourX/TextBPN-Training.git\")\n",
        "%cd TextBPN-Training\n",
        "time.sleep(5)\n",
        "dataset_download = 'TD500' #@param [\"TD500\", \"CTW1500\", \"Total-Text\", \"None\"]\n",
        "pretrain_model_download = 'MSRA-TD500-model' #@param [\"MSRA-TD500-model\", \"CTW-1500-model\", \"Total-Text-model\", \"None\"]\n",
        "!bash setup.sh {dataset_download} {pretrain_model_download}"
      ],
      "execution_count": 21,
      "outputs": [
        {
          "output_type": "stream",
          "name": "stdout",
          "text": [
            "/content\n",
            "/content/TextBPN-Training\n",
            "/content/TextBPN-Training\n",
            "Dataset Downloading TD500\n",
            "Downloading...\n",
            "From: https://drive.google.com/uc?id=1ByluLnyd8-Ltjo9AC-1m7omZnI-FA1u0\n",
            "To: /content/TextBPN-Training/TD500_data.zip\n",
            "100% 133M/133M [00:00<00:00, 159MB/s]\n",
            "Pretrained Model Downloading MSRA-TD500-model\n",
            "Downloading...\n",
            "From: https://drive.google.com/uc?id=13ZrWfpv2dJqdv0cDf-hE0n5JQegNY0-i\n",
            "To: /content/TextBPN-Training/ICCV2021_model.zip\n",
            "100% 434M/434M [00:02<00:00, 164MB/s]\n"
          ]
        }
      ]
    },
    {
      "cell_type": "markdown",
      "metadata": {
        "id": "ZzsnTUItfSq-"
      },
      "source": [
        "# Config"
      ]
    },
    {
      "cell_type": "markdown",
      "metadata": {
        "id": "OOl_6sCLfJeY"
      },
      "source": [
        "\n",
        "\n",
        "> Play with the Config.yml as needed then run the below cell\n",
        "\n"
      ]
    },
    {
      "cell_type": "markdown",
      "metadata": {
        "id": "M37Zo9_GfYiT"
      },
      "source": [
        "# Start Training"
      ]
    },
    {
      "cell_type": "code",
      "metadata": {
        "colab": {
          "base_uri": "https://localhost:8080/"
        },
        "id": "qTUnAZrGeAmj",
        "outputId": "3e0a03fa-f22d-45b4-e85e-f7986461832f"
      },
      "source": [
        "!python my_train_model.py"
      ],
      "execution_count": null,
      "outputs": [
        {
          "output_type": "stream",
          "name": "stdout",
          "text": [
            "==========Options============\n",
            "adj_num: 4\n",
            "approx_factor: 0.007\n",
            "batch_size: 12\n",
            "checkepoch: 590\n",
            "cls_threshold: 0.875\n",
            "cuda: False\n",
            "dataset: TD500\n",
            "device: cpu\n",
            "dis_threshold: 0.3\n",
            "display_freq: 10\n",
            "epochs: 200\n",
            "exp_name: Totaltext\n",
            "gamma: 0.1\n",
            "global_checkepoch: -1\n",
            "global_dataset: TD500\n",
            "global_epochs: 200\n",
            "global_gpu: [0]\n",
            "global_log_dir: log_dir\n",
            "global_output_idr: output\n",
            "global_pretrain: True\n",
            "global_pretrain_model: ./model/TD500/TextBPN_resnet50_680.pth\n",
            "global_print_freq: 2\n",
            "global_save_freq: 10\n",
            "global_save_path: ./checkpoints/\n",
            "global_use_gpu: False\n",
            "global_val_freq: 1000\n",
            "global_vis_dir: vis_dir\n",
            "gpu: [0]\n",
            "grad_clip: 0\n",
            "input_size: 640\n",
            "log_dir: log_dir\n",
            "log_freq: 10000\n",
            "loss: CrossEntropyLoss\n",
            "lr: 0.001\n",
            "lr_adjust: fix\n",
            "max_annotation: 64\n",
            "max_epoch: 200\n",
            "max_points: 20\n",
            "means: [0.485, 0.456, 0.406]\n",
            "mgpu: False\n",
            "momentum: 0.9\n",
            "net: resnet50\n",
            "num_points: 20\n",
            "num_workers: 1\n",
            "optim: Adam\n",
            "output_dir: output\n",
            "output_idr: output\n",
            "pretrain: ./model/TD500/TextBPN_resnet50_680.pth\n",
            "pretrain_model: ./model/TD500/TextBPN_resnet50_680.pth\n",
            "print_freq: 2\n",
            "rescale: 255.0\n",
            "save_dir: checkpoints\n",
            "save_freq: 5\n",
            "save_path: ./checkpoints/\n",
            "scale: 1\n",
            "start_epoch: 0\n",
            "stds: [0.229, 0.224, 0.225]\n",
            "stepvalues: []\n",
            "test_size: [640, 1024]\n",
            "train_adj_num: 4\n",
            "train_approx_factor: 0.007\n",
            "train_batch_size: 2\n",
            "train_cls_threshold: 0.8\n",
            "train_data_root: data/TD500\n",
            "train_dis_threshold: 0.3\n",
            "train_gamma: 0.1\n",
            "train_grad_clip: 0\n",
            "train_input_size: 640\n",
            "train_lr: 0.0001\n",
            "train_max_annotation: 64\n",
            "train_max_points: 20\n",
            "train_num_points: 20\n",
            "train_num_workers: 0\n",
            "train_rgb_mean: [0.485, 0.456, 0.406]\n",
            "train_rgb_std: [0.229, 0.224, 0.225]\n",
            "train_scale: 1\n",
            "train_shuffle: True\n",
            "train_step_size: 20\n",
            "train_use_hard: True\n",
            "use_gpu: False\n",
            "use_hard: True\n",
            "val_batch_size: 1\n",
            "val_data_root: data/TD500\n",
            "val_freq: 1000\n",
            "val_input_size: [640, 1024]\n",
            "val_num_workers: 1\n",
            "val_rgb_mean: [0.485, 0.456, 0.406]\n",
            "val_rgb_std: [0.229, 0.224, 0.225]\n",
            "val_shuffle: False\n",
            "vis_dir: vis_dir\n",
            "viz: False\n",
            "viz_freq: 50\n",
            "wandb_flag: True\n",
            "wandb_name: TD500\n",
            "wandb_project: TextBPN\n",
            "weight_decay: 0.0\n",
            "=============End=============\n",
            "load the resnet50 weight from ./cache\n",
            "Downloading: \"https://download.pytorch.org/models/resnet50-19c8e357.pth\" to ./cache/resnet50-19c8e357.pth\n",
            "100% 97.8M/97.8M [00:00<00:00, 133MB/s]\n",
            "Device : cpu\n",
            "\u001b[34m\u001b[1mwandb\u001b[0m: (1) Create a W&B account\n",
            "\u001b[34m\u001b[1mwandb\u001b[0m: (2) Use an existing W&B account\n",
            "\u001b[34m\u001b[1mwandb\u001b[0m: (3) Don't visualize my results\n",
            "\u001b[34m\u001b[1mwandb\u001b[0m: Enter your choice: 2\n",
            "\u001b[34m\u001b[1mwandb\u001b[0m: You chose 'Use an existing W&B account'\n",
            "\u001b[34m\u001b[1mwandb\u001b[0m: You can find your API key in your browser here: https://wandb.ai/authorize\n",
            "\u001b[34m\u001b[1mwandb\u001b[0m: Paste an API key from your profile and hit enter, or press ctrl+c to quit: \n",
            "\u001b[34m\u001b[1mwandb\u001b[0m: Appending key for api.wandb.ai to your netrc file: /root/.netrc\n",
            "\u001b[34m\u001b[1mwandb\u001b[0m: Tracking run with wandb version 0.12.7\n",
            "\u001b[34m\u001b[1mwandb\u001b[0m: Syncing run \u001b[33mTD500\u001b[0m\n",
            "\u001b[34m\u001b[1mwandb\u001b[0m: ⭐️ View project at \u001b[34m\u001b[4mhttps://wandb.ai/mohamadmansour/TextBPN\u001b[0m\n",
            "\u001b[34m\u001b[1mwandb\u001b[0m: 🚀 View run at \u001b[34m\u001b[4mhttps://wandb.ai/mohamadmansour/TextBPN/runs/3g02h3eq\u001b[0m\n",
            "\u001b[34m\u001b[1mwandb\u001b[0m: Run data is saved locally in /content/TextBPN-Training/wandb/run-20211123_111122-3g02h3eq\n",
            "\u001b[34m\u001b[1mwandb\u001b[0m: Run `wandb offline` to turn off syncing.\n",
            "\n",
            "torch.Size([1, 400, 2])\n",
            "\n",
            "Succesfully loaded pretrained model from: \"./model/TD500/TextBPN_resnet50_680.pth\"\n",
            "\n",
            "Device: cpu\n",
            "Initializing Training Dataset from: \"data/data/TD500/Train\"\n",
            "Training DataLoader has 150 iterations\n",
            "\n",
            "Initializing Validation Dataset from: \"data/data/TD500/Test\"\n",
            "Validation DataLoader has 200 iterations\n",
            "\n",
            "An Evaluation will run every 1000 iteration\n",
            "\n",
            "Epoch [0/200] Step [2/150]: total_loss: 0.6030(0.6123), cls_loss: 0.0642(0.0824), distance_loss: 0.0312(0.0479), point_loss: 0.1566(0.1620), Batch Time: 18.6665(19.0876), Data Time: 1.0742(0.9812), lr: 0.0001\n",
            "Epoch [0/200] Step [4/150]: total_loss: 0.4129(0.5389), cls_loss: 0.0718(0.0769), distance_loss: 0.0278(0.0379), point_loss: 0.1333(0.1713), Batch Time: 17.6272(18.3863), Data Time: 0.4885(0.7591), lr: 0.0001\n",
            "Epoch [0/200] Step [6/150]: total_loss: 0.1550(0.4456), cls_loss: 0.0485(0.0687), distance_loss: 0.0033(0.0302), point_loss: 0.0742(0.1443), Batch Time: 17.3707(18.1843), Data Time: 0.2503(0.7036), lr: 0.0001\n",
            "Epoch [0/200] Step [8/150]: total_loss: 0.4950(0.4431), cls_loss: 0.0747(0.0677), distance_loss: 0.0201(0.0285), point_loss: 0.2487(0.1608), Batch Time: 17.7989(18.0756), Data Time: 0.4957(0.6508), lr: 0.0001\n",
            "Epoch [0/200] Step [10/150]: total_loss: 0.3802(0.4615), cls_loss: 0.0702(0.0734), distance_loss: 0.0197(0.0321), point_loss: 0.1577(0.1601), Batch Time: 17.2381(17.9797), Data Time: 0.4935(0.6496), lr: 0.0001\n",
            "Epoch [0/200] Step [12/150]: total_loss: 0.2981(0.4625), cls_loss: 0.0368(0.0807), distance_loss: 0.0119(0.0356), point_loss: 0.1435(0.1527), Batch Time: 17.5334(17.9259), Data Time: 0.3707(0.6348), lr: 0.0001\n",
            "Epoch [0/200] Step [14/150]: total_loss: 1.1104(0.5345), cls_loss: 0.0790(0.0909), distance_loss: 0.0342(0.0389), point_loss: 0.7926(0.2023), Batch Time: 17.4174(17.8677), Data Time: 0.3218(0.6057), lr: 0.0001\n",
            "Epoch [0/200] Step [16/150]: total_loss: 0.6291(0.5534), cls_loss: 0.0347(0.0864), distance_loss: 0.0124(0.0366), point_loss: 0.5056(0.2367), Batch Time: 17.4436(17.8596), Data Time: 0.3083(0.6046), lr: 0.0001\n",
            "Epoch [0/200] Step [18/150]: total_loss: 0.3558(0.5354), cls_loss: 0.0606(0.0825), distance_loss: 0.0263(0.0349), point_loss: 0.0562(0.2262), Batch Time: 18.5265(17.8900), Data Time: 1.5447(0.6573), lr: 0.0001\n",
            "Epoch [0/200] Step [20/150]: total_loss: 0.3396(0.5183), cls_loss: 0.0382(0.0797), distance_loss: 0.0064(0.0337), point_loss: 0.1947(0.2221), Batch Time: 17.6749(17.8542), Data Time: 0.4765(0.6330), lr: 0.0001\n",
            "Epoch [0/200] Step [22/150]: total_loss: 0.4107(0.5111), cls_loss: 0.0739(0.0786), distance_loss: 0.0227(0.0326), point_loss: 0.1470(0.2186), Batch Time: 17.9077(17.8516), Data Time: 0.6563(0.6342), lr: 0.0001\n"
          ]
        }
      ]
    }
  ]
}
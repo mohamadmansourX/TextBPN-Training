{
  "nbformat": 4,
  "nbformat_minor": 0,
  "metadata": {
    "accelerator": "GPU",
    "colab": {
      "name": "TextBPN-Training.ipynb",
      "provenance": [],
      "collapsed_sections": [],
      "authorship_tag": "ABX9TyMlxXNNSVif5djQxwffrxus",
      "include_colab_link": true
    },
    "kernelspec": {
      "display_name": "Python 3",
      "name": "python3"
    },
    "language_info": {
      "name": "python"
    }
  },
  "cells": [
    {
      "cell_type": "markdown",
      "metadata": {
        "id": "view-in-github",
        "colab_type": "text"
      },
      "source": [
        "<a href=\"https://colab.research.google.com/github/mohamadmansourX/TextBPN-Training/blob/main/TextBPN_Training.ipynb\" target=\"_parent\"><img src=\"https://colab.research.google.com/assets/colab-badge.svg\" alt=\"Open In Colab\"/></a>"
      ]
    },
    {
      "cell_type": "markdown",
      "metadata": {
        "id": "VbrA8xCYfTj0"
      },
      "source": [
        "# Choose the Models"
      ]
    },
    {
      "cell_type": "code",
      "metadata": {
        "id": "Ysy45Zqw5aM7",
        "colab": {
          "base_uri": "https://localhost:8080/"
        },
        "cellView": "form",
        "outputId": "181b2a2b-6194-4687-c75a-3ca9690f1b4b"
      },
      "source": [
        "#@title\n",
        "\n",
        "import shutil\n",
        "from glob import glob\n",
        "import os\n",
        "import subprocess\n",
        "import time\n",
        "%cd /content\n",
        "for i in glob('/content/*'):\n",
        "  print(i)\n",
        "  try:\n",
        "    shutil.rmtree(i)\n",
        "  except:\n",
        "    os.remove(i)\n",
        "def git(*args):\n",
        "    return subprocess.check_call(['git'] + list(args))\n",
        "git(\"clone\", \"https://github.com/mohamadmansourX/TextBPN-Training.git\")\n",
        "%cd TextBPN-Training\n",
        "time.sleep(5)\n",
        "dataset_download = 'TD500' #@param [\"TD500\", \"CTW1500\", \"Total-Text\", \"None\"]\n",
        "pretrain_model_download = 'MSRA-TD500-model' #@param [\"MSRA-TD500-model\", \"CTW-1500-model\", \"Total-Text-model\", \"None\"]\n",
        "!bash setup.sh {dataset_download} {pretrain_model_download}"
      ],
      "execution_count": 6,
      "outputs": [
        {
          "output_type": "stream",
          "name": "stdout",
          "text": [
            "/content\n",
            "/content/TextBPN-Training\n",
            "/content/TextBPN-Training\n",
            "Dataset Downloading TD500\n",
            "Downloading...\n",
            "From: https://drive.google.com/uc?id=1ByluLnyd8-Ltjo9AC-1m7omZnI-FA1u0\n",
            "To: /content/TextBPN-Training/TD500_data.zip\n",
            "100% 133M/133M [00:00<00:00, 166MB/s]\n",
            "Pretrained Model Downloading MSRA-TD500-model\n",
            "Downloading...\n",
            "From: https://drive.google.com/uc?id=13ZrWfpv2dJqdv0cDf-hE0n5JQegNY0-i\n",
            "To: /content/TextBPN-Training/ICCV2021_model.zip\n",
            "100% 434M/434M [00:02<00:00, 161MB/s]\n"
          ]
        }
      ]
    },
    {
      "cell_type": "markdown",
      "metadata": {
        "id": "ZzsnTUItfSq-"
      },
      "source": [
        "# Config"
      ]
    },
    {
      "cell_type": "markdown",
      "metadata": {
        "id": "OOl_6sCLfJeY"
      },
      "source": [
        "\n",
        "\n",
        "> Play with the Config.yml as needed then run the below cell\n",
        "\n"
      ]
    },
    {
      "cell_type": "markdown",
      "metadata": {
        "id": "M37Zo9_GfYiT"
      },
      "source": [
        "# Start Training"
      ]
    },
    {
      "cell_type": "code",
      "metadata": {
        "colab": {
          "base_uri": "https://localhost:8080/"
        },
        "id": "qTUnAZrGeAmj",
        "outputId": "a1cc0e9d-db6c-4fba-abde-f1274401dce2"
      },
      "source": [
        "!python my_train_model.py"
      ],
      "execution_count": null,
      "outputs": [
        {
          "output_type": "stream",
          "name": "stdout",
          "text": [
            "==========Options============\n",
            "adj_num: 4\n",
            "approx_factor: 0.007\n",
            "batch_size: 12\n",
            "checkepoch: 590\n",
            "cls_threshold: 0.875\n",
            "cuda: False\n",
            "dataset: TD500\n",
            "device: cpu\n",
            "dis_threshold: 0.3\n",
            "display_freq: 10\n",
            "epochs: 200\n",
            "exp_name: Totaltext\n",
            "gamma: 0.1\n",
            "global_checkepoch: -1\n",
            "global_dataset: TD500\n",
            "global_epochs: 200\n",
            "global_gpu: [0]\n",
            "global_log_dir: log_dir\n",
            "global_output_idr: output\n",
            "global_pretrain: False\n",
            "global_pretrain_model: ./model/TD500/TextBPN_resnet50_680.pth\n",
            "global_print_freq: 2\n",
            "global_save_freq: 10\n",
            "global_save_path: ./checkpoints/\n",
            "global_use_gpu: False\n",
            "global_val_freq: 1000\n",
            "global_vis_dir: vis_dir\n",
            "gpu: [0]\n",
            "grad_clip: 0\n",
            "input_size: 640\n",
            "log_dir: log_dir\n",
            "log_freq: 10000\n",
            "loss: CrossEntropyLoss\n",
            "lr: 0.001\n",
            "lr_adjust: fix\n",
            "max_annotation: 64\n",
            "max_epoch: 200\n",
            "max_points: 20\n",
            "means: [0.485, 0.456, 0.406]\n",
            "mgpu: False\n",
            "momentum: 0.9\n",
            "net: resnet50\n",
            "num_points: 20\n",
            "num_workers: 1\n",
            "optim: Adam\n",
            "output_dir: output\n",
            "output_idr: output\n",
            "pretrain: ./model/TD500/TextBPN_resnet50_680.pth\n",
            "pretrain_model: ./model/TD500/TextBPN_resnet50_680.pth\n",
            "print_freq: 2\n",
            "rescale: 255.0\n",
            "save_dir: checkpoints\n",
            "save_freq: 5\n",
            "save_path: ./checkpoints/\n",
            "scale: 1\n",
            "start_epoch: 0\n",
            "stds: [0.229, 0.224, 0.225]\n",
            "stepvalues: []\n",
            "test_size: [640, 1024]\n",
            "train_adj_num: 4\n",
            "train_approx_factor: 0.007\n",
            "train_batch_size: 2\n",
            "train_cls_threshold: 0.8\n",
            "train_data_root: data/TD500\n",
            "train_dis_threshold: 0.3\n",
            "train_gamma: 0.1\n",
            "train_grad_clip: 0\n",
            "train_input_size: 640\n",
            "train_lr: 0.0001\n",
            "train_max_annotation: 64\n",
            "train_max_points: 20\n",
            "train_num_points: 20\n",
            "train_num_workers: 0\n",
            "train_rgb_mean: [0.485, 0.456, 0.406]\n",
            "train_rgb_std: [0.229, 0.224, 0.225]\n",
            "train_scale: 1\n",
            "train_shuffle: True\n",
            "train_step_size: 20\n",
            "train_use_hard: True\n",
            "use_gpu: False\n",
            "use_hard: True\n",
            "val_batch_size: 1\n",
            "val_data_root: data/TD500\n",
            "val_freq: 1000\n",
            "val_input_size: [640, 1024]\n",
            "val_num_workers: 1\n",
            "val_rgb_mean: [0.485, 0.456, 0.406]\n",
            "val_rgb_std: [0.229, 0.224, 0.225]\n",
            "val_shuffle: False\n",
            "vis_dir: vis_dir\n",
            "viz: False\n",
            "viz_freq: 50\n",
            "wandb_flag: True\n",
            "wandb_name: TD500\n",
            "wandb_project: TextBPN\n",
            "weight_decay: 0.0\n",
            "=============End=============\n",
            "load the resnet50 weight from ./cache\n",
            "Device : cpu\n",
            "\u001b[34m\u001b[1mwandb\u001b[0m: Currently logged in as: \u001b[33mmohamadmansour\u001b[0m (use `wandb login --relogin` to force relogin)\n",
            "\u001b[34m\u001b[1mwandb\u001b[0m: Tracking run with wandb version 0.12.7\n",
            "\u001b[34m\u001b[1mwandb\u001b[0m: Syncing run \u001b[33mTD500\u001b[0m\n",
            "\u001b[34m\u001b[1mwandb\u001b[0m: ⭐️ View project at \u001b[34m\u001b[4mhttps://wandb.ai/mohamadmansour/TextBPN\u001b[0m\n",
            "\u001b[34m\u001b[1mwandb\u001b[0m: 🚀 View run at \u001b[34m\u001b[4mhttps://wandb.ai/mohamadmansour/TextBPN/runs/1pq5537t\u001b[0m\n",
            "\u001b[34m\u001b[1mwandb\u001b[0m: Run data is saved locally in /content/TextBPN-Training/wandb/run-20211123_113945-1pq5537t\n",
            "\u001b[34m\u001b[1mwandb\u001b[0m: Run `wandb offline` to turn off syncing.\n",
            "\n",
            "torch.Size([1, 400, 2])\n",
            "Device: cpu\n",
            "Initializing Training Dataset from: \"data/data/TD500/Train\"\n",
            "Training DataLoader has 150 iterations\n",
            "\n",
            "Initializing Validation Dataset from: \"data/data/TD500/Test\"\n",
            "Validation DataLoader has 200 iterations\n",
            "\n",
            "An Evaluation will run every 1000 iteration\n",
            "\n",
            "Epoch [0/200] Step [2/150]: total_loss: 3.5337(3.6553), cls_loss: 0.6860(0.6860), distance_loss: 0.9914(0.9964), point_loss: 0.3567(0.3988), Batch Time: 18.9086(19.4327), Data Time: 1.0994(1.1101), lr: 0.0001\n",
            "Epoch [0/200] Step [4/150]: total_loss: 4.5803(3.8606), cls_loss: 0.6857(0.6859), distance_loss: 1.0053(0.9993), point_loss: 1.2357(0.6237), Batch Time: 18.1630(18.7817), Data Time: 0.6123(0.8663), lr: 0.0001\n",
            "Epoch [0/200] Step [6/150]: total_loss: 3.7150(3.8924), cls_loss: 0.6857(0.6858), distance_loss: 1.0030(0.9815), point_loss: 0.5762(0.7221), Batch Time: 17.9257(18.4724), Data Time: 0.7485(0.7686), lr: 0.0001\n",
            "Epoch [0/200] Step [8/150]: total_loss: 5.7011(4.1503), cls_loss: 0.6855(0.6857), distance_loss: 1.0137(0.9891), point_loss: 2.4663(0.9649), Batch Time: 17.6648(18.2712), Data Time: 0.3409(0.6883), lr: 0.0001\n",
            "Epoch [0/200] Step [10/150]: total_loss: 3.9875(4.1145), cls_loss: 0.6855(0.6857), distance_loss: 1.0077(0.9919), point_loss: 0.9333(0.9425), Batch Time: 17.7041(18.1910), Data Time: 0.4316(0.6598), lr: 0.0001\n",
            "Epoch [0/200] Step [12/150]: total_loss: 7.1321(4.4536), cls_loss: 0.6913(0.6861), distance_loss: 1.0058(0.9947), point_loss: 3.4222(1.2262), Batch Time: 17.9049(18.1309), Data Time: 0.4927(0.6280), lr: 0.0001\n",
            "Epoch [0/200] Step [14/150]: total_loss: 3.7902(4.4704), cls_loss: 0.6853(0.6860), distance_loss: 1.0017(0.9961), point_loss: 0.5493(1.2053), Batch Time: 17.8774(18.1118), Data Time: 0.6937(0.6385), lr: 0.0001\n",
            "Epoch [0/200] Step [16/150]: total_loss: 4.2427(4.4307), cls_loss: 0.6852(0.6859), distance_loss: 1.0021(0.9970), point_loss: 1.0150(1.1734), Batch Time: 17.9159(18.0580), Data Time: 0.5779(0.6247), lr: 0.0001\n",
            "Epoch [0/200] Step [18/150]: total_loss: 4.6389(4.4168), cls_loss: 0.6851(0.6858), distance_loss: 1.0031(0.9970), point_loss: 1.4900(1.1630), Batch Time: 17.6189(18.0459), Data Time: 0.3929(0.6264), lr: 0.0001\n",
            "Epoch [0/200] Step [20/150]: total_loss: 4.2281(4.3420), cls_loss: 0.6850(0.6858), distance_loss: 1.0048(0.9968), point_loss: 0.9423(1.1067), Batch Time: 17.9514(18.0244), Data Time: 0.6620(0.6191), lr: 0.0001\n",
            "Epoch [0/200] Step [22/150]: total_loss: 3.6613(4.2815), cls_loss: 0.6850(0.6857), distance_loss: 0.9864(0.9965), point_loss: 0.2583(1.0428), Batch Time: 19.1284(18.0679), Data Time: 1.8377(0.6713), lr: 0.0001\n",
            "Epoch [0/200] Step [24/150]: total_loss: 3.5592(4.2668), cls_loss: 0.6849(0.6856), distance_loss: 0.9809(0.9962), point_loss: 0.4470(1.0321), Batch Time: 17.9806(18.0351), Data Time: 0.7429(0.6657), lr: 0.0001\n",
            "Epoch [0/200] Step [26/150]: total_loss: 4.8801(4.2795), cls_loss: 0.6846(0.6856), distance_loss: 0.9981(0.9965), point_loss: 1.3556(1.0339), Batch Time: 17.9327(18.0162), Data Time: 0.6479(0.6580), lr: 0.0001\n",
            "Epoch [0/200] Step [28/150]: total_loss: 4.3027(4.2713), cls_loss: 0.6846(0.6855), distance_loss: 1.0042(0.9967), point_loss: 1.1203(1.0187), Batch Time: 17.6219(18.0207), Data Time: 0.4918(0.6717), lr: 0.0001\n",
            "Epoch [0/200] Step [30/150]: total_loss: 4.3174(4.2877), cls_loss: 0.6844(0.6854), distance_loss: 0.9953(0.9967), point_loss: 1.0850(1.0279), Batch Time: 17.5724(17.9949), Data Time: 0.4597(0.6607), lr: 0.0001\n",
            "Epoch [0/200] Step [32/150]: total_loss: 4.2846(4.2588), cls_loss: 0.6843(0.6854), distance_loss: 0.9858(0.9926), point_loss: 1.1347(1.0128), Batch Time: 17.5821(17.9708), Data Time: 0.4491(0.6497), lr: 0.0001\n",
            "Epoch [0/200] Step [34/150]: total_loss: 3.9909(4.2203), cls_loss: 0.6841(0.6853), distance_loss: 0.9878(0.9921), point_loss: 0.6892(0.9812), Batch Time: 17.9109(17.9682), Data Time: 0.7012(0.6548), lr: 0.0001\n",
            "Epoch [0/200] Step [36/150]: total_loss: 4.7729(4.2558), cls_loss: 0.6836(0.6852), distance_loss: 0.9968(0.9924), point_loss: 1.6794(1.0188), Batch Time: 17.2498(17.9391), Data Time: 0.3228(0.6404), lr: 0.0001\n",
            "Epoch [0/200] Step [38/150]: total_loss: 3.4710(4.2453), cls_loss: 0.6839(0.6851), distance_loss: 0.9883(0.9923), point_loss: 0.5375(1.0129), Batch Time: 17.5349(17.9195), Data Time: 0.3771(0.6332), lr: 0.0001\n",
            "Epoch [0/200] Step [40/150]: total_loss: 4.0231(4.2271), cls_loss: 0.6829(0.6850), distance_loss: 0.9873(0.9921), point_loss: 0.7983(0.9996), Batch Time: 17.7134(17.9066), Data Time: 0.5947(0.6290), lr: 0.0001\n",
            "Epoch [0/200] Step [42/150]: total_loss: 4.0052(4.2221), cls_loss: 0.6821(0.6849), distance_loss: 0.9869(0.9920), point_loss: 0.8960(0.9999), Batch Time: 17.4864(17.8886), Data Time: 0.4536(0.6205), lr: 0.0001\n",
            "Epoch [0/200] Step [44/150]: total_loss: 4.7999(4.2285), cls_loss: 0.6807(0.6847), distance_loss: 0.9872(0.9916), point_loss: 1.7225(1.0104), Batch Time: 17.3989(17.8762), Data Time: 0.3745(0.6161), lr: 0.0001\n",
            "Epoch [0/200] Step [46/150]: total_loss: 3.3716(4.2035), cls_loss: 0.6830(0.6847), distance_loss: 0.9693(0.9909), point_loss: 0.3642(0.9962), Batch Time: 17.6834(17.8588), Data Time: 0.7278(0.6129), lr: 0.0001\n",
            "Epoch [0/200] Step [48/150]: total_loss: 4.3157(4.2061), cls_loss: 0.6800(0.6845), distance_loss: 0.9743(0.9902), point_loss: 1.1384(1.0024), Batch Time: 17.4767(17.8382), Data Time: 0.4843(0.6054), lr: 0.0001\n",
            "Epoch [0/200] Step [50/150]: total_loss: 3.8266(4.1905), cls_loss: 0.6787(0.6842), distance_loss: 0.9600(0.9892), point_loss: 0.8587(0.9971), Batch Time: 17.4791(17.8275), Data Time: 0.4244(0.5971), lr: 0.0001\n",
            "Epoch [0/200] Step [52/150]: total_loss: 4.2179(4.1950), cls_loss: 0.6769(0.6840), distance_loss: 0.9454(0.9877), point_loss: 0.5126(0.9915), Batch Time: 18.7010(17.8423), Data Time: 1.4151(0.6109), lr: 0.0001\n",
            "Epoch [0/200] Step [54/150]: total_loss: 5.4249(4.2129), cls_loss: 0.6718(0.6836), distance_loss: 0.9460(0.9863), point_loss: 2.3598(1.0176), Batch Time: 17.2857(17.8222), Data Time: 0.3803(0.6010), lr: 0.0001\n",
            "Epoch [0/200] Step [56/150]: total_loss: 4.6717(4.2115), cls_loss: 0.6678(0.6830), distance_loss: 0.9177(0.9841), point_loss: 1.0251(1.0102), Batch Time: 18.1345(17.8277), Data Time: 0.9924(0.6119), lr: 0.0001\n",
            "Epoch [0/200] Step [58/150]: total_loss: 3.1860(4.2065), cls_loss: 0.6802(0.6827), distance_loss: 0.9279(0.9821), point_loss: 0.2588(1.0115), Batch Time: 18.4937(17.8344), Data Time: 1.3464(0.6225), lr: 0.0001\n",
            "Epoch [0/200] Step [60/150]: total_loss: 4.0034(4.1993), cls_loss: 0.6622(0.6822), distance_loss: 0.8978(0.9793), point_loss: 1.0676(1.0072), Batch Time: 17.5616(17.8380), Data Time: 0.4861(0.6279), lr: 0.0001\n",
            "Epoch [0/200] Step [62/150]: total_loss: 3.3310(4.1751), cls_loss: 0.6713(0.6817), distance_loss: 0.7995(0.9749), point_loss: 0.7263(0.9976), Batch Time: 17.4293(17.8287), Data Time: 0.4149(0.6229), lr: 0.0001\n",
            "Epoch [0/200] Step [64/150]: total_loss: 4.4792(4.1729), cls_loss: 0.6648(0.6814), distance_loss: 0.8439(0.9706), point_loss: 1.2548(1.0032), Batch Time: 17.7008(17.8195), Data Time: 0.6639(0.6187), lr: 0.0001\n",
            "Epoch [0/200] Step [66/150]: total_loss: 3.9444(4.1630), cls_loss: 0.6571(0.6809), distance_loss: 0.8399(0.9675), point_loss: 1.1143(1.0018), Batch Time: 17.5364(17.8112), Data Time: 0.4216(0.6142), lr: 0.0001\n",
            "Epoch [0/200] Step [68/150]: total_loss: 3.8621(4.1499), cls_loss: 0.6638(0.6806), distance_loss: 0.8304(0.9638), point_loss: 0.5669(0.9857), Batch Time: 18.4716(17.8338), Data Time: 1.2068(0.6348), lr: 0.0001\n",
            "Epoch [0/200] Step [70/150]: total_loss: 3.3332(4.1269), cls_loss: 0.6662(0.6804), distance_loss: 0.8360(0.9611), point_loss: 0.4052(0.9713), Batch Time: 18.0743(17.8306), Data Time: 0.9825(0.6361), lr: 0.0001\n",
            "Epoch [0/200] Step [72/150]: total_loss: 3.7833(4.1209), cls_loss: 0.6557(0.6796), distance_loss: 0.8009(0.9568), point_loss: 1.1910(0.9756), Batch Time: 17.4494(17.8243), Data Time: 0.3761(0.6321), lr: 0.0001\n",
            "Epoch [0/200] Step [74/150]: total_loss: 3.5775(4.1271), cls_loss: 0.6642(0.6789), distance_loss: 0.8424(0.9528), point_loss: 0.8406(0.9897), Batch Time: 17.5749(17.8176), Data Time: 0.4721(0.6274), lr: 0.0001\n"
          ]
        }
      ]
    }
  ]
}